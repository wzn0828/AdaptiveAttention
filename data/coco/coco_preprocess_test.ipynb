{
 "metadata": {
  "kernelspec": {
   "display_name": "Python [Root]",
   "language": "python",
   "name": "Python [Root]"
  },
  "language_info": {
   "codemirror_mode": {
    "name": "ipython",
    "version": 2
   },
   "file_extension": ".py",
   "mimetype": "text/x-python",
   "name": "python",
   "nbconvert_exporter": "python",
   "pygments_lexer": "ipython2",
   "version": "2.7.12"
  },
  "name": "",
  "signature": "sha256:83924332455f63f6c2e57361f767bc0fc9edbefb0b45ea1df706b2a44b4ed0ce"
 },
 "nbformat": 3,
 "nbformat_minor": 0,
 "worksheets": [
  {
   "cells": [
    {
     "cell_type": "markdown",
     "metadata": {},
     "source": [
      "# COCO data preprocessing\n",
      "\n",
      "This code will download the caption anotations for coco and preprocess them into an hdf5 file and a json file. \n",
      "\n",
      "These will then be read by the COCO data loader in Lua and trained on."
     ]
    },
    {
     "cell_type": "code",
     "collapsed": false,
     "input": [
      "import json\n",
      "test = json.load(open('/media/samsumg_1tb/Image_Caption/annotations/image_info_test2014.json', 'r'))"
     ],
     "language": "python",
     "metadata": {},
     "outputs": [],
     "prompt_number": 1
    },
    {
     "cell_type": "code",
     "collapsed": false,
     "input": [
      "print test.keys()\n",
      "print test['info']\n",
      "print len(test['images'])\n",
      "print test['images'][0]"
     ],
     "language": "python",
     "metadata": {},
     "outputs": [
      {
       "output_type": "stream",
       "stream": "stdout",
       "text": [
        "[u'info', u'images', u'licenses', u'categories']\n",
        "{u'description': u'COCO 2014 Dataset', u'url': u'http://cocodataset.org', u'version': u'1.0', u'year': 2014, u'contributor': u'COCO Consortium', u'date_created': u'2017/09/01'}\n",
        "40775\n",
        "{u'license': 2, u'file_name': u'COCO_test2014_000000523573.jpg', u'coco_url': u'http://images.cocodataset.org/test2014/COCO_test2014_000000523573.jpg', u'height': 500, u'width': 423, u'date_captured': u'2013-11-14 12:21:59', u'id': 523573}\n"
       ]
      }
     ],
     "prompt_number": 2
    },
    {
     "cell_type": "code",
     "collapsed": false,
     "input": [
      "import json\n",
      "import os\n",
      "\n",
      "# combine all images and annotations together\n",
      "imgs = test['images']\n",
      "\n",
      "# create the json blob\n",
      "out = []\n",
      "for i,img in enumerate(imgs):\n",
      "    imgid = img['id']\n",
      "    \n",
      "    # coco specific here, they store train/val images separately\n",
      "    loc = 'test2014'\n",
      "    \n",
      "    jimg = {}\n",
      "    jimg['file_path'] = os.path.join(loc, img['file_name'])\n",
      "    jimg['id'] = imgid\n",
      "    \n",
      "    out.append(jimg)\n",
      "    \n",
      "json.dump(out, open('coco_test_raw.json', 'w'))"
     ],
     "language": "python",
     "metadata": {},
     "outputs": [],
     "prompt_number": 3
    },
    {
     "cell_type": "code",
     "collapsed": false,
     "input": [
      "jimg['file_path']"
     ],
     "language": "python",
     "metadata": {},
     "outputs": [
      {
       "metadata": {},
       "output_type": "pyout",
       "prompt_number": 4,
       "text": [
        "u'test2014/COCO_test2014_000000155724.jpg'"
       ]
      }
     ],
     "prompt_number": 4
    },
    {
     "cell_type": "code",
     "collapsed": false,
     "input": [
      "# lets see what they look like\n",
      "print out[0]"
     ],
     "language": "python",
     "metadata": {},
     "outputs": [
      {
       "output_type": "stream",
       "stream": "stdout",
       "text": [
        "{'file_path': u'test2014/COCO_test2014_000000523573.jpg', 'id': 523573}\n"
       ]
      }
     ],
     "prompt_number": 5
    },
    {
     "cell_type": "code",
     "collapsed": true,
     "input": [],
     "language": "python",
     "metadata": {},
     "outputs": [],
     "prompt_number": null
    }
   ],
   "metadata": {}
  }
 ]
}